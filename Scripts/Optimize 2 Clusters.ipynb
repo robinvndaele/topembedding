{
 "cells": [
  {
   "cell_type": "markdown",
   "metadata": {},
   "source": [
    "# Topological optimization of 2 clusters"
   ]
  },
  {
   "cell_type": "markdown",
   "metadata": {},
   "source": [
    "In this notebook, we show how a topological loss can be use to optimize a data set for two clusters.\n",
    "\n",
    "We start by setting the working directory and importing the necessary libraries."
   ]
  },
  {
   "cell_type": "code",
   "execution_count": 1,
   "metadata": {},
   "outputs": [],
   "source": [
    "# Set working directory\n",
    "import os\n",
    "os.chdir(\"..\")\n",
    "\n",
    "# Handling arrays and data.frames\n",
    "import numpy as np\n",
    "\n",
    "# Random sampling\n",
    "import random\n",
    "\n",
    "# Functions for deep learning (Pytorch)\n",
    "import torch\n",
    "from torch import nn\n",
    "\n",
    "# Pytorch compatible topology layer\n",
    "from topologylayer.nn import AlphaLayer\n",
    "from Code.losses import DiagramLoss\n",
    "\n",
    "# Plotting\n",
    "import seaborn as sns\n",
    "import matplotlib.pyplot as plt\n",
    "\n",
    "%matplotlib inline"
   ]
  },
  {
   "cell_type": "markdown",
   "metadata": {},
   "source": [
    "## Load and view data"
   ]
  },
  {
   "cell_type": "markdown",
   "metadata": {},
   "source": [
    "We generate the data as follows."
   ]
  },
  {
   "cell_type": "code",
   "execution_count": 2,
   "metadata": {},
   "outputs": [
    {
     "data": {
      "image/png": "[encoded data removed]",
      "text/plain": [
       "<Figure size 432x288 with 1 Axes>"
      ]
     },
     "metadata": {
      "needs_background": "light"
     },
     "output_type": "display_data"
    }
   ],
   "source": [
    "# Data parameters\n",
    "points_per_cluster = 25\n",
    "mu1 = np.array([-0.2, 0])\n",
    "mu2 = np.array([0.2, 0])\n",
    "sigma = 0.1\n",
    "\n",
    "# Generate the data and labels\n",
    "np.random.seed(420)\n",
    "data = np.concatenate([mu1 + np.random.normal(size=(points_per_cluster, 2), scale=sigma),\n",
    "                       mu2 + np.random.normal(size=(points_per_cluster, 2), scale=sigma)])\n",
    "color = [\"orange\" for _ in range(points_per_cluster)] + [\"royalblue\" for _ in range(points_per_cluster)]\n",
    "\n",
    "# Plot the data\n",
    "fig, ax = plt.subplots()\n",
    "sns.scatterplot(x=data[:,0], y=data[:,1], c=color)\n",
    "plt.show()"
   ]
  },
  {
   "cell_type": "markdown",
   "metadata": {},
   "source": [
    "## Apply topological optimization to the embedding\n",
    "\n",
    "We now show how we can use topological optimization to encourage the model underlying the data to become connected. As a topological loss, we will use the persistence of the second most prominent gap."
   ]
  },
  {
   "cell_type": "code",
   "execution_count": 3,
   "metadata": {},
   "outputs": [],
   "source": [
    "# Define topological loss\n",
    "def g(p): return p[1] - p[0] # function that returns the persistence d - b of a point (b, d)\n",
    "TopLayer = AlphaLayer(maxdim=0) # alpha complex layer\n",
    "Component2Persistence = DiagramLoss(dim=0, i=2, j=2, g=g) # compute persistence of second most prominent gap\n",
    "\n",
    "# Construct topological loss function\n",
    "def top_loss(output):\n",
    "    dgminfo = TopLayer(output)            \n",
    "    loss = - Component2Persistence(dgminfo)\n",
    "    \n",
    "    return loss"
   ]
  },
  {
   "cell_type": "markdown",
   "metadata": {},
   "source": [
    "We can now conduct the topological optimization as follows."
   ]
  },
  {
   "cell_type": "code",
   "execution_count": 4,
   "metadata": {},
   "outputs": [
    {
     "name": "stdout",
     "output_type": "stream",
     "text": [
      "[epoch 1] [topological loss: -0.131397]\n",
      "[epoch 10] [topological loss: -0.282094]\n",
      "[epoch 20] [topological loss: -0.427987]\n",
      "[epoch 30] [topological loss: -0.579585]\n",
      "[epoch 40] [topological loss: -0.736238]\n",
      "[epoch 50] [topological loss: -0.896679]\n",
      "[epoch 60] [topological loss: -1.062835]\n",
      "[epoch 70] [topological loss: -1.235956]\n",
      "[epoch 80] [topological loss: -1.402753]\n",
      "[epoch 90] [topological loss: -1.571399]\n",
      "[epoch 100] [topological loss: -1.741448]\n"
     ]
    },
    {
     "data": {
      "image/png": "[encoded data removed]",
      "text/plain": [
       "<Figure size 432x288 with 1 Axes>"
      ]
     },
     "metadata": {
      "needs_background": "light"
     },
     "output_type": "display_data"
    }
   ],
   "source": [
    "# Learning hyperparameters\n",
    "num_epochs = 100\n",
    "learning_rate = 1e-2\n",
    "\n",
    "# Conduct topological optimization\n",
    "Y = torch.autograd.Variable(torch.tensor(data).type(torch.float), requires_grad=True)\n",
    "optimizer = torch.optim.Adam([Y], lr=learning_rate)\n",
    "\n",
    "for epoch in range(num_epochs):\n",
    "    optimizer.zero_grad()\n",
    "    loss = top_loss(Y)\n",
    "    loss.backward()\n",
    "    optimizer.step()\n",
    "\n",
    "    if epoch == 0 or (epoch + 1) % (int(num_epochs / 10)) == 0:\n",
    "        print (\"[epoch %d] [topological loss: %f]\" % (epoch + 1, loss.item()))\n",
    "        \n",
    "Y = Y.detach().numpy().copy()\n",
    "\n",
    "# View topologically optimized embedding\n",
    "fig, ax = plt.subplots()\n",
    "sns.scatterplot(x=Y[:,0], y=Y[:,1], c=color)\n",
    "plt.show()"
   ]
  },
  {
   "cell_type": "markdown",
   "metadata": {},
   "source": [
    "We see that the topological optimization served its purpose, i.e., it results in a point cloud consisting of two clusters. However, one of these clusters consists of merely one point. To accomodate for this, we can compute the topological loss from a random sample of our data as to represent more natural clusters."
   ]
  },
  {
   "cell_type": "code",
   "execution_count": 5,
   "metadata": {},
   "outputs": [
    {
     "name": "stdout",
     "output_type": "stream",
     "text": [
      "[epoch 1] [topological loss: -0.308334]\n",
      "[epoch 10] [topological loss: -0.125648]\n",
      "[epoch 20] [topological loss: -0.298769]\n",
      "[epoch 30] [topological loss: -0.441468]\n",
      "[epoch 40] [topological loss: -0.331700]\n",
      "[epoch 50] [topological loss: -0.495583]\n",
      "[epoch 60] [topological loss: -0.605348]\n",
      "[epoch 70] [topological loss: -0.605039]\n",
      "[epoch 80] [topological loss: -0.156322]\n",
      "[epoch 90] [topological loss: -0.719416]\n",
      "[epoch 100] [topological loss: -0.644189]\n"
     ]
    },
    {
     "data": {
      "image/png": "[encoded data removed]",
      "text/plain": [
       "<Figure size 432x288 with 1 Axes>"
      ]
     },
     "metadata": {
      "needs_background": "light"
     },
     "output_type": "display_data"
    }
   ],
   "source": [
    "# Learning hyperparameters\n",
    "top_frac = 0.10\n",
    "num_epochs = 100\n",
    "learning_rate = 1e-2\n",
    "\n",
    "# Conduct topologically optimization\n",
    "Y = torch.autograd.Variable(torch.tensor(data).type(torch.float), requires_grad=True)\n",
    "optimizer = torch.optim.Adam([Y], lr=learning_rate)\n",
    "\n",
    "random.seed(42)\n",
    "for epoch in range(num_epochs):\n",
    "    optimizer.zero_grad()\n",
    "    I = random.sample(range(Y.shape[0]), int(Y.shape[0] * top_frac))\n",
    "    loss = top_loss(Y[I,:])\n",
    "    loss.backward()\n",
    "    optimizer.step()\n",
    "\n",
    "    if epoch == 0 or (epoch + 1) % (int(num_epochs / 10)) == 0:\n",
    "        print (\"[epoch %d] [topological loss: %f]\" % (epoch + 1, loss.item()))\n",
    "        \n",
    "Y = Y.detach().numpy().copy()\n",
    "\n",
    "# View topologically optimized embedding\n",
    "fig, ax = plt.subplots()\n",
    "sns.scatterplot(x=Y[:,0], y=Y[:,1], c=color)\n",
    "plt.show()"
   ]
  },
  {
   "cell_type": "code",
   "execution_count": null,
   "metadata": {},
   "outputs": [],
   "source": []
  }
 ],
 "metadata": {
  "kernelspec": {
   "display_name": "Python 3 (ipykernel)",
   "language": "python",
   "name": "python3"
  },
  "language_info": {
   "codemirror_mode": {
    "name": "ipython",
    "version": 3
   },
   "file_extension": ".py",
   "mimetype": "text/x-python",
   "name": "python",
   "nbconvert_exporter": "python",
   "pygments_lexer": "ipython3",
   "version": "3.9.6"
  }
 },
 "nbformat": 4,
 "nbformat_minor": 2
}
