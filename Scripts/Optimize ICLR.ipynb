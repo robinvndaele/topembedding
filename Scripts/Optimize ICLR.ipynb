{
 "cells": [
  {
   "cell_type": "markdown",
   "metadata": {},
   "source": [
    "# Topological optimization of the  ICLR acronym"
   ]
  },
  {
   "cell_type": "markdown",
   "metadata": {},
   "source": [
    "In this notebook, we show how a topological loss can be use to increase the 'connectedness' of a data set.\n",
    "\n",
    "We start by setting the working directory and importing the necessary libraries."
   ]
  },
  {
   "cell_type": "code",
   "execution_count": 1,
   "metadata": {},
   "outputs": [],
   "source": [
    "# Set working directory\n",
    "import os\n",
    "os.chdir(\"..\")\n",
    "\n",
    "# Handling arrays and data.frames\n",
    "import numpy as np\n",
    "\n",
    "# Functions for deep learning (Pytorch)\n",
    "import torch\n",
    "from torch import nn\n",
    "\n",
    "# Pytorch compatible topology layer\n",
    "from topologylayer.nn import AlphaLayer\n",
    "from Code.losses import DiagramLoss\n",
    "\n",
    "# Plotting\n",
    "import seaborn as sns\n",
    "import matplotlib.pyplot as plt\n",
    "\n",
    "%matplotlib inline"
   ]
  },
  {
   "cell_type": "markdown",
   "metadata": {},
   "source": [
    "## Load and view data"
   ]
  },
  {
   "cell_type": "markdown",
   "metadata": {},
   "source": [
    "We load and view the data as follows."
   ]
  },
  {
   "cell_type": "code",
   "execution_count": 2,
   "metadata": {},
   "outputs": [
    {
     "data": {
      "image/png": "[encoded data removed]",
      "text/plain": [
       "<Figure size 432x288 with 1 Axes>"
      ]
     },
     "metadata": {
      "needs_background": "light"
     },
     "output_type": "display_data"
    }
   ],
   "source": [
    "# Load the data\n",
    "data = np.loadtxt(os.path.join(\"Data\", \"ICLR.csv\"), delimiter=\" \", skiprows=1, usecols=(1, 2))\n",
    "\n",
    "# Plot the data\n",
    "fig, ax = plt.subplots()\n",
    "sns.scatterplot(x=data[:,0], y=data[:,1])\n",
    "plt.show()"
   ]
  },
  {
   "cell_type": "markdown",
   "metadata": {},
   "source": [
    "## Apply topological optimization to the embedding\n",
    "\n",
    "We now show how we can use topological optimization to encourage the model underlying the data to become connected. As a topological loss, we will use the total (finite) 0-dimensional persistence."
   ]
  },
  {
   "cell_type": "code",
   "execution_count": 3,
   "metadata": {},
   "outputs": [],
   "source": [
    "# Define topological loss\n",
    "def g(p): return p[1] - p[0] # function that returns the persistence d - b of a point (b, d)\n",
    "TopLayer = AlphaLayer(maxdim=0) # alpha complex layer\n",
    "TotalPersistence = DiagramLoss(dim=0, i=2, g=g) # compute total finite 0-dimensional persistence\n",
    "\n",
    "# Construct topological loss function\n",
    "def top_loss(output):\n",
    "    dgminfo = TopLayer(output)            \n",
    "    loss = TotalPersistence(dgminfo)\n",
    "    \n",
    "    return loss"
   ]
  },
  {
   "cell_type": "markdown",
   "metadata": {},
   "source": [
    "We can now conduct the topological optimization as follows."
   ]
  },
  {
   "cell_type": "code",
   "execution_count": 4,
   "metadata": {},
   "outputs": [
    {
     "name": "stdout",
     "output_type": "stream",
     "text": [
      "[epoch 1] [topological loss: 457.542542]\n",
      "[epoch 100] [topological loss: 129.146744]\n",
      "[epoch 200] [topological loss: 93.165222]\n",
      "[epoch 300] [topological loss: 84.318512]\n",
      "[epoch 400] [topological loss: 78.541626]\n",
      "[epoch 500] [topological loss: 77.293060]\n",
      "[epoch 600] [topological loss: 74.688240]\n",
      "[epoch 700] [topological loss: 69.911301]\n",
      "[epoch 800] [topological loss: 70.679962]\n",
      "[epoch 900] [topological loss: 65.238800]\n",
      "[epoch 1000] [topological loss: 66.778046]\n"
     ]
    }
   ],
   "source": [
    "# Dictionary to store optimized point cloud for multiple epochs\n",
    "optimized = dict()\n",
    "\n",
    "# Learning hyperparameters\n",
    "num_epochs = [5, 50, 100, 250, 500, 1000]\n",
    "learning_rate = 1e0\n",
    "\n",
    "# Conduct topological optimization\n",
    "Y = torch.autograd.Variable(torch.tensor(data).type(torch.float), requires_grad=True)\n",
    "optimizer = torch.optim.Adam([Y], lr=learning_rate)\n",
    "\n",
    "for epoch in range(num_epochs[len(num_epochs) - 1]):\n",
    "    optimizer.zero_grad()\n",
    "    loss = top_loss(Y)\n",
    "    loss.backward()\n",
    "    optimizer.step()\n",
    "\n",
    "    if epoch == 0 or (epoch + 1) % (int(num_epochs[len(num_epochs) - 1]) / 10) == 0:\n",
    "        print (\"[epoch %d] [topological loss: %f]\" % (epoch + 1, loss.item()))\n",
    "        \n",
    "    if epoch + 1 in num_epochs:\n",
    "        optimized[epoch + 1] = Y.detach().numpy().copy()"
   ]
  },
  {
   "cell_type": "code",
   "execution_count": 5,
   "metadata": {},
   "outputs": [
    {
     "data": {
      "image/png": "[encoded data removed]",
      "text/plain": [
       "<Figure size 432x288 with 1 Axes>"
      ]
     },
     "metadata": {
      "needs_background": "light"
     },
     "output_type": "display_data"
    }
   ],
   "source": [
    "# View topologically optimized data for a particular number of epochs\n",
    "epoch = 250\n",
    "fig, ax = plt.subplots()\n",
    "sns.scatterplot(x=optimized[epoch][:,0], y=optimized[epoch][:,1])\n",
    "plt.show()"
   ]
  },
  {
   "cell_type": "markdown",
   "metadata": {},
   "source": [
    "Finally, we save the optimized data sets for plotting in R."
   ]
  },
  {
   "cell_type": "code",
   "execution_count": 6,
   "metadata": {},
   "outputs": [],
   "source": [
    "for epoch in num_epochs:\n",
    "    np.savetxt(os.path.join(\"Data\", \"ICLR Optimized\" , \"epochs\" + str(epoch) + \".csv\"), \n",
    "               optimized[epoch], delimiter=\",\")"
   ]
  },
  {
   "cell_type": "code",
   "execution_count": null,
   "metadata": {},
   "outputs": [],
   "source": []
  }
 ],
 "metadata": {
  "kernelspec": {
   "display_name": "Python 3 (ipykernel)",
   "language": "python",
   "name": "python3"
  },
  "language_info": {
   "codemirror_mode": {
    "name": "ipython",
    "version": 3
   },
   "file_extension": ".py",
   "mimetype": "text/x-python",
   "name": "python",
   "nbconvert_exporter": "python",
   "pygments_lexer": "ipython3",
   "version": "3.9.6"
  }
 },
 "nbformat": 4,
 "nbformat_minor": 2
}
