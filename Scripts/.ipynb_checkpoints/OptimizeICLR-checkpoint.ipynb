{
 "cells": [
  {
   "cell_type": "markdown",
   "metadata": {},
   "source": [
    "# Topological optimization of the  ICLR acronym"
   ]
  },
  {
   "cell_type": "markdown",
   "metadata": {},
   "source": [
    "In this notebook, we show how a topological loss can be use to increase the 'connectedness' of a data set.\n",
    "\n",
    "We start by setting the working directory and importing the necessary libraries."
   ]
  },
  {
   "cell_type": "code",
   "execution_count": 1,
   "metadata": {},
   "outputs": [
    {
     "ename": "ModuleNotFoundError",
     "evalue": "No module named 'topologylayer'",
     "output_type": "error",
     "traceback": [
      "\u001b[0;31m---------------------------------------------------------------------------\u001b[0m",
      "\u001b[0;31mModuleNotFoundError\u001b[0m                       Traceback (most recent call last)",
      "\u001b[0;32m<ipython-input-1-8b4cb20aa6c5>\u001b[0m in \u001b[0;36m<module>\u001b[0;34m\u001b[0m\n\u001b[1;32m     12\u001b[0m \u001b[0;34m\u001b[0m\u001b[0m\n\u001b[1;32m     13\u001b[0m \u001b[0;31m# Pytorch compatible topology layer\u001b[0m\u001b[0;34m\u001b[0m\u001b[0;34m\u001b[0m\u001b[0;34m\u001b[0m\u001b[0m\n\u001b[0;32m---> 14\u001b[0;31m \u001b[0;32mfrom\u001b[0m \u001b[0mtopologylayer\u001b[0m\u001b[0;34m.\u001b[0m\u001b[0mnn\u001b[0m \u001b[0;32mimport\u001b[0m \u001b[0mAlphaLayer\u001b[0m\u001b[0;34m\u001b[0m\u001b[0;34m\u001b[0m\u001b[0m\n\u001b[0m\u001b[1;32m     15\u001b[0m \u001b[0;32mfrom\u001b[0m \u001b[0mtopembed\u001b[0m \u001b[0;32mimport\u001b[0m \u001b[0mDiagramFeature\u001b[0m\u001b[0;34m\u001b[0m\u001b[0;34m\u001b[0m\u001b[0m\n\u001b[1;32m     16\u001b[0m \u001b[0;34m\u001b[0m\u001b[0m\n",
      "\u001b[0;31mModuleNotFoundError\u001b[0m: No module named 'topologylayer'"
     ]
    }
   ],
   "source": [
    "# Set working directory\n",
    "import os\n",
    "os.chdir(\"..\")\n",
    "\n",
    "# Handling arrays and data.frames\n",
    "import pandas as pd \n",
    "import numpy as np\n",
    "\n",
    "# Functions for deep learning (Pytorch)\n",
    "import torch\n",
    "from torch import nn\n",
    "\n",
    "# Pytorch compatible topology layer\n",
    "from topologylayer.nn import AlphaLayer\n",
    "from topembed import DiagramFeature\n",
    "\n",
    "# Plotting\n",
    "import seaborn as sns\n",
    "import matplotlib.pyplot as plt\n",
    "\n",
    "%matplotlib inline"
   ]
  },
  {
   "cell_type": "markdown",
   "metadata": {},
   "source": [
    "## Load data and view ordinary UMAP embedding"
   ]
  },
  {
   "cell_type": "markdown",
   "metadata": {},
   "source": [
    "The data is loaded from an R object into Python as follows."
   ]
  },
  {
   "cell_type": "code",
   "execution_count": 2,
   "metadata": {},
   "outputs": [
    {
     "name": "stdout",
     "output_type": "stream",
     "text": [
      "Data shape: (154, 1770)\n"
     ]
    }
   ],
   "source": [
    "# Load the data\n",
    "file_name = os.path.join(\"Data\", \"CellBifurcating.rds\")\n",
    "cell_info = ro.r[\"readRDS\"](file_name)\n",
    "cell_info = dict(zip(cell_info.names, list(cell_info)))\n",
    "\n",
    "pandas2ri.activate()\n",
    "data = ro.conversion.rpy2py(cell_info[\"expression\"])\n",
    "t = list(ro.conversion.rpy2py(cell_info[\"cell_info\"])\n",
    "         .rename(columns={\"milestone_id\": \"group_id\"}).loc[:,\"group_id\"])\n",
    "pandas2ri.deactivate()\n",
    "\n",
    "print(\"Data shape: \" + str(data.shape))"
   ]
  },
  {
   "cell_type": "markdown",
   "metadata": {},
   "source": [
    "We now visualize the data through its ordinary UMAP embedding."
   ]
  },
  {
   "cell_type": "code",
   "execution_count": 7,
   "metadata": {},
   "outputs": [
    {
     "name": "stdout",
     "output_type": "stream",
     "text": [
      "[epoch 1] [embedding loss: 3310.912842]\n",
      "[epoch 100] [embedding loss: 2704.921387]\n",
      "[epoch 200] [embedding loss: 2621.571289]\n",
      "[epoch 300] [embedding loss: 2588.905762]\n",
      "[epoch 400] [embedding loss: 2574.906494]\n",
      "[epoch 500] [embedding loss: 2572.572266]\n",
      "[epoch 600] [embedding loss: 2567.971191]\n",
      "[epoch 700] [embedding loss: 2564.361572]\n",
      "[epoch 800] [embedding loss: 2564.174072]\n",
      "[epoch 900] [embedding loss: 2562.789551]\n",
      "[epoch 1000] [embedding loss: 2562.014160]\n"
     ]
    },
    {
     "data": {
      "image/png": "[encoded data removed]",
      "text/plain": [
       "<Figure size 432x288 with 1 Axes>"
      ]
     },
     "metadata": {
      "needs_background": "light"
     },
     "output_type": "display_data"
    }
   ],
   "source": [
    "# Learning hyperparameters\n",
    "num_epochs = 1000\n",
    "learning_rate = 5e-2\n",
    "\n",
    "# UMAP parameters\n",
    "n_neighbors = 15\n",
    "spread = 1.0\n",
    "min_dist = 0.1\n",
    "\n",
    "# Initialize UMAP embedding with PCA\n",
    "P, Y_emb, a, b = umap_initialize(data, n_neighbors=n_neighbors, spread=spread, min_dist=min_dist, random_state=42)\n",
    "\n",
    "# Conduct UMAP embedding\n",
    "Y_emb = torch.autograd.Variable(Y_emb, requires_grad=True)\n",
    "optimizer = torch.optim.Adam([Y_emb], lr=learning_rate)\n",
    "\n",
    "for epoch in range(num_epochs):\n",
    "\n",
    "    optimizer.zero_grad()\n",
    "    loss = umap_loss(P, Y_emb, a, b)\n",
    "    loss.backward()\n",
    "    optimizer.step()\n",
    "    Y_emb - torch.mean(Y_emb, 0)\n",
    "\n",
    "    if epoch == 0 or (epoch + 1) % (int(num_epochs) / 10) == 0:\n",
    "        print (\"[epoch %d] [embedding loss: %f]\" % (epoch + 1, loss.item()))        \n",
    "        \n",
    "Y_emb = Y_emb.detach().numpy()\n",
    "\n",
    "# View UMAP embedding\n",
    "fig, ax = plt.subplots()\n",
    "sns.scatterplot(x=Y_emb[:,0], y=Y_emb[:,1], hue=t, palette=\"husl\")\n",
    "ax.get_legend().remove()\n",
    "plt.show()"
   ]
  },
  {
   "cell_type": "markdown",
   "metadata": {},
   "source": [
    "## Apply topological regularization to the embedding\n",
    "\n",
    "We now show how we can bias a non-linear embedding using a loss function that captures our topological prior. This topological loss will be a linear combination of two separate losses:\n",
    "- $\\lambda_{\\mathrm{flare}} <0$: A topological loss that encourages three clusters away from our embedding mean. It is proportional to the sum of persistence of the three most persisting components (neglecting the one with infinite persistence) in the fraction of our embedding that is sufficiently far from the embedding mean according to a proportional threshold $\\tau_{\\mathrm{flare}}$ fixed in advance.\n",
    "- $\\lambda_{\\mathrm{connected}} >0$: A topological loss that encourages our embedded model to remain connected.\n",
    "\n",
    "To obtain these losses, we require an additional layer that constructs the alpha complex from the embedding, from which subsequently persistent homology is computed."
   ]
  },
  {
   "cell_type": "code",
   "execution_count": 9,
   "metadata": {},
   "outputs": [],
   "source": [
    "# Define topological optimization\n",
    "\n",
    "def g(p): # function that returns the persistence d of a point (0, d) with d < inf\n",
    "    return p[1] if p[1] < np.inf else torch.tensor(0).type(torch.float)\n",
    "\n",
    "tau_flare = 0.5 # fixed threshold specifying to portion of data away from the mean to compute persistence\n",
    "\n",
    "top_layer = AlphaLayer(maxdim=1) # alpha complex layer\n",
    "component2_persistence = DiagramFeature(dim=0, j=2, g=g) # compute persistence of second most prominent gap\n",
    "component3_persistence = DiagramFeature(dim=0, i=3, j=3, g=g) # compute persistence of third most prominent gap\n",
    "lambda_top = 1e1 # scalar factor that trades off embedding and topological loss\n",
    "\n",
    "def top_criterion(output):\n",
    "    \n",
    "    f = torch.norm(output - torch.mean(output, dim=0), dim=1) # function measuring distance to embedding mean\n",
    "    f /= torch.max(f) # scale for proportional threshold\n",
    "    \n",
    "    dgminfo_flare = top_layer(output[f > tau_flare,:])\n",
    "    lambda_flare = -component3_persistence(dgminfo_flare)\n",
    "    \n",
    "    dgminfo_connected = top_layer(output)            \n",
    "    lambda_connected = component2_persistence(dgminfo_connected)\n",
    "                              \n",
    "    loss = lambda_top * (lambda_flare + lambda_connected)\n",
    "    \n",
    "    return loss"
   ]
  },
  {
   "cell_type": "markdown",
   "metadata": {},
   "source": [
    "We can now conduct the topologically regularized embedding as follows."
   ]
  },
  {
   "cell_type": "code",
   "execution_count": 11,
   "metadata": {},
   "outputs": [
    {
     "name": "stdout",
     "output_type": "stream",
     "text": [
      "[epoch 1] [embedding loss: 3310.912842, topological loss: -65.744461, total loss: 3245.168457]\n",
      "[epoch 100] [embedding loss: 2749.152588, topological loss: -124.201393, total loss: 2624.951172]\n",
      "[epoch 200] [embedding loss: 2675.629150, topological loss: -91.288651, total loss: 2584.340576]\n",
      "[epoch 300] [embedding loss: 2637.753662, topological loss: -111.891449, total loss: 2525.862305]\n",
      "[epoch 400] [embedding loss: 2632.053711, topological loss: -110.844154, total loss: 2521.209473]\n",
      "[epoch 500] [embedding loss: 2630.416748, topological loss: -103.031006, total loss: 2527.385742]\n",
      "[epoch 600] [embedding loss: 2628.346680, topological loss: -101.177940, total loss: 2527.168701]\n",
      "[epoch 700] [embedding loss: 2624.097900, topological loss: -98.131172, total loss: 2525.966797]\n",
      "[epoch 800] [embedding loss: 2623.240234, topological loss: -99.174561, total loss: 2524.065674]\n",
      "[epoch 900] [embedding loss: 2622.312744, topological loss: -99.878036, total loss: 2522.434814]\n",
      "[epoch 1000] [embedding loss: 2622.382080, topological loss: -100.133469, total loss: 2522.248535]\n"
     ]
    },
    {
     "data": {
      "image/png": "[encoded data removed]",
      "text/plain": [
       "<Figure size 432x288 with 1 Axes>"
      ]
     },
     "metadata": {
      "needs_background": "light"
     },
     "output_type": "display_data"
    }
   ],
   "source": [
    "# Learning hyperparameters\n",
    "num_epochs = 1000\n",
    "learning_rate = 5e-2\n",
    "\n",
    "# Initialize topologically regularized embedding with PCA\n",
    "P, Y_top, a, b = umap_initialize(data, n_neighbors=n_neighbors, spread=spread, min_dist=min_dist, random_state=42)\n",
    "\n",
    "# Conduct topologically regularized embedding\n",
    "losses = np.zeros([num_epochs, 2])\n",
    "Y_top = torch.autograd.Variable(Y_top, requires_grad=True)\n",
    "optimizer = torch.optim.Adam([Y_top], lr=learning_rate)\n",
    "\n",
    "for epoch in range(num_epochs):\n",
    "    optimizer.zero_grad()\n",
    "    emb_loss = umap_loss(P, Y_top, a, b)\n",
    "    top_loss = top_criterion(Y_top)\n",
    "    loss = emb_loss + top_loss\n",
    "    losses[epoch,:] = [emb_loss, top_loss]\n",
    "    loss.backward()\n",
    "    optimizer.step()\n",
    "    Y_top - torch.mean(Y_top, 0) # re-center embedding\n",
    "\n",
    "    if epoch == 0 or (epoch + 1) % (int(num_epochs) / 10) == 0:\n",
    "        print (\"[epoch %d] [embedding loss: %f, topological loss: %f, total loss: %f]\" % \n",
    "               (epoch + 1, emb_loss.item(), top_loss.item(), loss.item()))\n",
    "        \n",
    "losses = pd.DataFrame(losses, columns=[\"emb\", \"top\"]) # dataframe storing our losses\n",
    "\n",
    "Y_top = Y_top.detach().numpy()\n",
    "\n",
    "# View topologically regularized embedding\n",
    "fig, ax = plt.subplots()\n",
    "sns.scatterplot(x=Y_top[:,0], y=Y_top[:,1], hue=t, palette=\"husl\")\n",
    "ax.get_legend().remove()\n",
    "plt.show()"
   ]
  },
  {
   "cell_type": "code",
   "execution_count": null,
   "metadata": {},
   "outputs": [],
   "source": []
  }
 ],
 "metadata": {
  "kernelspec": {
   "display_name": "Python 3",
   "language": "python",
   "name": "python3"
  },
  "language_info": {
   "codemirror_mode": {
    "name": "ipython",
    "version": 3
   },
   "file_extension": ".py",
   "mimetype": "text/x-python",
   "name": "python",
   "nbconvert_exporter": "python",
   "pygments_lexer": "ipython3",
   "version": "3.8.5"
  }
 },
 "nbformat": 4,
 "nbformat_minor": 2
}
