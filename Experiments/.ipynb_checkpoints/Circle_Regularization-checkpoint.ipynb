{
 "cells": [
  {
   "cell_type": "markdown",
   "metadata": {},
   "source": [
    "# Topologically Regularized Embeddings"
   ]
  },
  {
   "cell_type": "code",
   "execution_count": 2,
   "metadata": {},
   "outputs": [
    {
     "ename": "ImportError",
     "evalue": "/home/robin/anaconda3/lib/python3.8/site-packages/topologylayer/functional/persistence.cpython-38-x86_64-linux-gnu.so: undefined symbol: _ZTIN3c1021AutogradMetaInterfaceE",
     "output_type": "error",
     "traceback": [
      "\u001b[0;31m---------------------------------------------------------------------------\u001b[0m",
      "\u001b[0;31mImportError\u001b[0m                               Traceback (most recent call last)",
      "\u001b[0;32m<ipython-input-2-b05b140a27a3>\u001b[0m in \u001b[0;36m<module>\u001b[0;34m\u001b[0m\n\u001b[1;32m     10\u001b[0m \u001b[0;32mimport\u001b[0m \u001b[0mtorch\u001b[0m\u001b[0;34m\u001b[0m\u001b[0;34m\u001b[0m\u001b[0m\n\u001b[1;32m     11\u001b[0m \u001b[0;32mfrom\u001b[0m \u001b[0mtorch\u001b[0m \u001b[0;32mimport\u001b[0m \u001b[0mnn\u001b[0m\u001b[0;34m\u001b[0m\u001b[0;34m\u001b[0m\u001b[0m\n\u001b[0;32m---> 12\u001b[0;31m \u001b[0;32mfrom\u001b[0m \u001b[0mtopologylayer\u001b[0m\u001b[0;34m.\u001b[0m\u001b[0mnn\u001b[0m \u001b[0;32mimport\u001b[0m \u001b[0mAlphaLayer\u001b[0m\u001b[0;34m\u001b[0m\u001b[0;34m\u001b[0m\u001b[0m\n\u001b[0m\u001b[1;32m     13\u001b[0m \u001b[0;32mfrom\u001b[0m \u001b[0mtopembed\u001b[0m \u001b[0;32mimport\u001b[0m \u001b[0mDiagramFeature\u001b[0m\u001b[0;34m\u001b[0m\u001b[0;34m\u001b[0m\u001b[0m\n\u001b[1;32m     14\u001b[0m \u001b[0;34m\u001b[0m\u001b[0m\n",
      "\u001b[0;32m~/anaconda3/lib/python3.8/site-packages/topologylayer/__init__.py\u001b[0m in \u001b[0;36m<module>\u001b[0;34m\u001b[0m\n\u001b[0;32m----> 1\u001b[0;31m \u001b[0;32mimport\u001b[0m \u001b[0mtopologylayer\u001b[0m\u001b[0;34m.\u001b[0m\u001b[0mnn\u001b[0m\u001b[0;34m\u001b[0m\u001b[0;34m\u001b[0m\u001b[0m\n\u001b[0m\u001b[1;32m      2\u001b[0m \u001b[0;32mimport\u001b[0m \u001b[0mtopologylayer\u001b[0m\u001b[0;34m.\u001b[0m\u001b[0mfunctional\u001b[0m\u001b[0;34m\u001b[0m\u001b[0;34m\u001b[0m\u001b[0m\n\u001b[1;32m      3\u001b[0m \u001b[0;32mfrom\u001b[0m \u001b[0mtopologylayer\u001b[0m\u001b[0;34m.\u001b[0m\u001b[0mfunctional\u001b[0m\u001b[0;34m.\u001b[0m\u001b[0mpersistence\u001b[0m \u001b[0;32mimport\u001b[0m \u001b[0mSimplicialComplex\u001b[0m\u001b[0;34m\u001b[0m\u001b[0;34m\u001b[0m\u001b[0m\n",
      "\u001b[0;32m~/anaconda3/lib/python3.8/site-packages/topologylayer/nn/__init__.py\u001b[0m in \u001b[0;36m<module>\u001b[0;34m\u001b[0m\n\u001b[1;32m      1\u001b[0m \u001b[0;32mfrom\u001b[0m \u001b[0;34m.\u001b[0m\u001b[0mfeatures\u001b[0m \u001b[0;32mimport\u001b[0m \u001b[0mSumBarcodeLengths\u001b[0m\u001b[0;34m,\u001b[0m \u001b[0mBarcodePolyFeature\u001b[0m\u001b[0;34m\u001b[0m\u001b[0;34m\u001b[0m\u001b[0m\n\u001b[1;32m      2\u001b[0m \u001b[0;32mfrom\u001b[0m \u001b[0;34m.\u001b[0m\u001b[0mfeatures\u001b[0m \u001b[0;32mimport\u001b[0m \u001b[0mTopKBarcodeLengths\u001b[0m\u001b[0;34m,\u001b[0m \u001b[0mPartialSumBarcodeLengths\u001b[0m\u001b[0;34m\u001b[0m\u001b[0;34m\u001b[0m\u001b[0m\n\u001b[0;32m----> 3\u001b[0;31m \u001b[0;32mfrom\u001b[0m \u001b[0;34m.\u001b[0m\u001b[0mlevelset\u001b[0m \u001b[0;32mimport\u001b[0m \u001b[0mLevelSetLayer\u001b[0m\u001b[0;34m,\u001b[0m \u001b[0mLevelSetLayer1D\u001b[0m\u001b[0;34m,\u001b[0m \u001b[0mLevelSetLayer2D\u001b[0m\u001b[0;34m\u001b[0m\u001b[0;34m\u001b[0m\u001b[0m\n\u001b[0m\u001b[1;32m      4\u001b[0m \u001b[0;32mfrom\u001b[0m \u001b[0;34m.\u001b[0m\u001b[0mrips\u001b[0m \u001b[0;32mimport\u001b[0m \u001b[0mRipsLayer\u001b[0m\u001b[0;34m\u001b[0m\u001b[0;34m\u001b[0m\u001b[0m\n\u001b[1;32m      5\u001b[0m \u001b[0;32mfrom\u001b[0m \u001b[0;34m.\u001b[0m\u001b[0malpha\u001b[0m \u001b[0;32mimport\u001b[0m \u001b[0mAlphaLayer\u001b[0m\u001b[0;34m\u001b[0m\u001b[0;34m\u001b[0m\u001b[0m\n",
      "\u001b[0;32m~/anaconda3/lib/python3.8/site-packages/topologylayer/nn/levelset.py\u001b[0m in \u001b[0;36m<module>\u001b[0;34m\u001b[0m\n\u001b[0;32m----> 1\u001b[0;31m \u001b[0;32mfrom\u001b[0m \u001b[0;34m.\u001b[0m\u001b[0;34m.\u001b[0m\u001b[0mfunctional\u001b[0m\u001b[0;34m.\u001b[0m\u001b[0msublevel\u001b[0m \u001b[0;32mimport\u001b[0m \u001b[0mSubLevelSetDiagram\u001b[0m\u001b[0;34m\u001b[0m\u001b[0;34m\u001b[0m\u001b[0m\n\u001b[0m\u001b[1;32m      2\u001b[0m \u001b[0;32mfrom\u001b[0m \u001b[0mtopologylayer\u001b[0m\u001b[0;34m.\u001b[0m\u001b[0mfunctional\u001b[0m\u001b[0;34m.\u001b[0m\u001b[0mpersistence\u001b[0m \u001b[0;32mimport\u001b[0m \u001b[0mSimplicialComplex\u001b[0m\u001b[0;34m\u001b[0m\u001b[0;34m\u001b[0m\u001b[0m\n\u001b[1;32m      3\u001b[0m \u001b[0;32mfrom\u001b[0m \u001b[0mtopologylayer\u001b[0m\u001b[0;34m.\u001b[0m\u001b[0mutil\u001b[0m\u001b[0;34m.\u001b[0m\u001b[0mconstruction\u001b[0m \u001b[0;32mimport\u001b[0m \u001b[0munique_simplices\u001b[0m\u001b[0;34m\u001b[0m\u001b[0;34m\u001b[0m\u001b[0m\n\u001b[1;32m      4\u001b[0m \u001b[0;34m\u001b[0m\u001b[0m\n\u001b[1;32m      5\u001b[0m \u001b[0;32mimport\u001b[0m \u001b[0mtorch\u001b[0m\u001b[0;34m\u001b[0m\u001b[0;34m\u001b[0m\u001b[0m\n",
      "\u001b[0;32m~/anaconda3/lib/python3.8/site-packages/topologylayer/functional/sublevel.py\u001b[0m in \u001b[0;36m<module>\u001b[0;34m\u001b[0m\n\u001b[1;32m      4\u001b[0m \u001b[0;34m\u001b[0m\u001b[0m\n\u001b[1;32m      5\u001b[0m \u001b[0;32mfrom\u001b[0m \u001b[0mtorch\u001b[0m\u001b[0;34m.\u001b[0m\u001b[0mautograd\u001b[0m \u001b[0;32mimport\u001b[0m \u001b[0mVariable\u001b[0m\u001b[0;34m,\u001b[0m \u001b[0mFunction\u001b[0m\u001b[0;34m\u001b[0m\u001b[0;34m\u001b[0m\u001b[0m\n\u001b[0;32m----> 6\u001b[0;31m \u001b[0;32mfrom\u001b[0m \u001b[0;34m.\u001b[0m\u001b[0mpersistence\u001b[0m \u001b[0;32mimport\u001b[0m \u001b[0mSimplicialComplex\u001b[0m\u001b[0;34m,\u001b[0m \u001b[0mpersistenceForwardCohom\u001b[0m\u001b[0;34m,\u001b[0m \u001b[0mpersistenceBackward\u001b[0m\u001b[0;34m,\u001b[0m \u001b[0mpersistenceForwardHom\u001b[0m\u001b[0;34m\u001b[0m\u001b[0;34m\u001b[0m\u001b[0m\n\u001b[0m\u001b[1;32m      7\u001b[0m \u001b[0;34m\u001b[0m\u001b[0m\n\u001b[1;32m      8\u001b[0m \u001b[0;32mclass\u001b[0m \u001b[0mSubLevelSetDiagram\u001b[0m\u001b[0;34m(\u001b[0m\u001b[0mFunction\u001b[0m\u001b[0;34m)\u001b[0m\u001b[0;34m:\u001b[0m\u001b[0;34m\u001b[0m\u001b[0;34m\u001b[0m\u001b[0m\n",
      "\u001b[0;31mImportError\u001b[0m: /home/robin/anaconda3/lib/python3.8/site-packages/topologylayer/functional/persistence.cpython-38-x86_64-linux-gnu.so: undefined symbol: _ZTIN3c1021AutogradMetaInterfaceE"
     ]
    }
   ],
   "source": [
    "# Set working directory\n",
    "import os\n",
    "os.chdir(\"/home/robin/Documents/topEmbedding\")\n",
    "\n",
    "# Loading R objects into python\n",
    "import rpy2.robjects as ro\n",
    "from rpy2.robjects import pandas2ri\n",
    "\n",
    "# Functions for deep learning (Pytorch)\n",
    "import torch\n",
    "from torch import nn\n",
    "from topologylayer.nn import AlphaLayer\n",
    "from topembed import DiagramFeature\n",
    "\n",
    "# Pytorch compatible embedding & topology losses\n",
    "import importlib \n",
    "import topembed\n",
    "importlib.reload(topembed)\n",
    "\n",
    "# Handling arrays and data.frames\n",
    "import pandas as pd \n",
    "import numpy as np\n",
    "\n",
    "# Path management in Python\n",
    "import os\n",
    "\n",
    "# Plotting\n",
    "import seaborn as sns\n",
    "import matplotlib.pyplot as plt\n",
    "\n",
    "# PCA embedding\n",
    "from sklearn.decomposition import PCA\n",
    "\n",
    "%matplotlib inline"
   ]
  },
  {
   "cell_type": "markdown",
   "metadata": {},
   "source": [
    "## Construct data and view restriction to first two coordinates (toy example)"
   ]
  },
  {
   "cell_type": "code",
   "execution_count": 34,
   "metadata": {},
   "outputs": [
    {
     "data": {
      "image/png": "[encoded data removed]",
      "text/plain": [
       "<Figure size 432x288 with 1 Axes>"
      ]
     },
     "metadata": {
      "needs_background": "light"
     },
     "output_type": "display_data"
    }
   ],
   "source": [
    "np.random.seed(42)\n",
    "\n",
    "npoints = 50\n",
    "ndim = 1000\n",
    "sigma = 0.45\n",
    "t = np.linspace(0, 2 * np.pi, npoints, endpoint=False)\n",
    "X = np.concatenate([np.transpose(np.array([np.cos(t), np.sin(t)])), np.zeros([npoints, ndim - 2])], axis=1)\n",
    "N = np.random.uniform(low=-sigma, high=sigma, size=[npoints, ndim])\n",
    "data = X + N\n",
    "\n",
    "fig, ax = plt.subplots()\n",
    "ax = sns.scatterplot(x=data[:,0], y=data[:,1], s=50, hue=t, palette=\"husl\")\n",
    "ax.get_legend().remove()\n",
    "plt.show()"
   ]
  },
  {
   "cell_type": "markdown",
   "metadata": {},
   "source": [
    "## Load data (real cell trajectory example)"
   ]
  },
  {
   "cell_type": "code",
   "execution_count": 33,
   "metadata": {},
   "outputs": [],
   "source": [
    "file_name = os.path.join(\"Data\", \"Cells\", \"Real\", \"cell-cycle_buettner.rds\")\n",
    "cell_info = ro.r[\"readRDS\"](file_name)\n",
    "cell_info = dict(zip(cell_info.names, list(cell_info)))\n",
    "\n",
    "pandas2ri.activate()\n",
    "data = ro.conversion.rpy2py(cell_info[\"expression\"])\n",
    "t = list(ro.conversion.rpy2py(cell_info[\"cell_info\"])\n",
    "         .rename(columns={\"milestone_id\": \"group_id\"}).loc[:,\"group_id\"])\n",
    "pandas2ri.deactivate()\n",
    "\n",
    "del cell_info"
   ]
  },
  {
   "cell_type": "markdown",
   "metadata": {},
   "source": [
    "## Conduct ordinary PCA embedding"
   ]
  },
  {
   "cell_type": "code",
   "execution_count": 35,
   "metadata": {},
   "outputs": [
    {
     "data": {
      "image/png": "[encoded data removed]",
      "text/plain": [
       "<Figure size 432x288 with 1 Axes>"
      ]
     },
     "metadata": {
      "needs_background": "light"
     },
     "output_type": "display_data"
    }
   ],
   "source": [
    "pca = PCA(n_components=2, random_state=42).fit(data)\n",
    "Y_pca = pca.transform(data)\n",
    "\n",
    "fig, ax = plt.subplots()\n",
    "sns.scatterplot(x=Y_pca[:,0], y=Y_pca[:,1], s=50, hue=t, palette=\"husl\")\n",
    "ax.get_legend().remove()\n",
    "plt.show()"
   ]
  },
  {
   "cell_type": "markdown",
   "metadata": {},
   "source": [
    "## Conduct TCA embedding"
   ]
  },
  {
   "cell_type": "code",
   "execution_count": 43,
   "metadata": {},
   "outputs": [],
   "source": [
    "class LE(nn.Module):      \n",
    "\n",
    "    def __init__(self, input_dim, encoding_dim, init_weights):\n",
    "        super(LE, self).__init__()\n",
    "        self.input_dim = input_dim\n",
    "        self.encoding_dim = encoding_dim\n",
    "        self.encoder = nn.Linear(self.input_dim, self.encoding_dim, bias=False)\n",
    "        self.encoder.weight = init_weights\n",
    "\n",
    "    def forward(self, x):\n",
    "        x = self.encoder(x)\n",
    "        return x\n",
    "    \n",
    "    \n",
    "def TCA(X, encoding_dim, top_criterion, num_epochs=2000, learning_rate=1e-3, eps=1e-07, random_state=None):\n",
    "    \n",
    "    init_weights = torch.tensor(PCA(n_components=2, random_state=random_state).fit(X).components_)\n",
    "    init_weights = nn.Parameter(init_weights.type(torch.float))\n",
    "    X = torch.tensor(X).type(torch.float)\n",
    "    X = X - X.mean(dim=1, keepdim=True)\n",
    "    model = LE(input_dim=X.shape[1], encoding_dim=encoding_dim, init_weights=init_weights)\n",
    "    optimizer = torch.optim.Adam(model.parameters(), lr=learning_rate, eps=eps)\n",
    "    \n",
    "    for epoch in range(num_epochs):\n",
    "        output = model.encoder(X)\n",
    "        W_loss = .25 * torch.sum(torch.abs(model.encoder.weight))\n",
    "        top_loss = top_criterion(output)\n",
    "        loss = W_loss + top_loss\n",
    "        loss.backward()\n",
    "        optimizer.step()\n",
    "        optimizer.zero_grad()\n",
    "        \n",
    "        if epoch == 0 or (epoch + 1) % (int(num_epochs) / 10) == 0:\n",
    "            print (\"[epoch %d] [weight loss: %f, top loss: %f]\" % (epoch + 1, W_loss, top_loss))\n",
    "\n",
    "    Y = model.encoder(X).detach().numpy()\n",
    "    \n",
    "    return(Y, model.encoder.weight)"
   ]
  },
  {
   "cell_type": "code",
   "execution_count": 44,
   "metadata": {},
   "outputs": [
    {
     "name": "stdout",
     "output_type": "stream",
     "text": [
      "[epoch 1] [weight loss: 12.086995, top loss: -0.626517]\n",
      "[epoch 200] [weight loss: 0.749785, top loss: -0.348407]\n",
      "[epoch 400] [weight loss: 0.574570, top loss: -0.283814]\n",
      "[epoch 600] [weight loss: 0.476778, top loss: -0.241026]\n",
      "[epoch 800] [weight loss: 0.375068, top loss: -0.180542]\n",
      "[epoch 1000] [weight loss: 0.328916, top loss: -0.136466]\n",
      "[epoch 1200] [weight loss: 0.316718, top loss: -0.122623]\n",
      "[epoch 1400] [weight loss: 0.315286, top loss: -0.088774]\n",
      "[epoch 1600] [weight loss: 0.294937, top loss: -0.072122]\n",
      "[epoch 1800] [weight loss: 0.313423, top loss: -0.056683]\n",
      "[epoch 2000] [weight loss: 0.277955, top loss: -0.064360]\n"
     ]
    },
    {
     "data": {
      "image/png": "[encoded data removed]",
      "text/plain": [
       "<Figure size 432x288 with 1 Axes>"
      ]
     },
     "metadata": {
      "needs_background": "light"
     },
     "output_type": "display_data"
    }
   ],
   "source": [
    "# Define topological optimization\n",
    "\n",
    "def g(p): return p[1] - p[0]\n",
    "top_layer = AlphaLayer(maxdim=1)\n",
    "connected_feature = DiagramFeature(dim=0, j=2, g=g)\n",
    "circular_feature = DiagramFeature(dim=1, j=1, g=g)\n",
    "\n",
    "def top_criterion(output):\n",
    "    \n",
    "    dgminfo = top_layer(output)\n",
    "    loss = - circular_feature(dgminfo)\n",
    "    \n",
    "    return loss\n",
    "\n",
    "# Parameters for topological optimization\n",
    "num_epochs = 2000\n",
    "learning_rate = 1e-3\n",
    "\n",
    "# Conduct topological optimization       \n",
    "torch.manual_seed(42)\n",
    "data_temp = data.copy()\n",
    "Y_top, W = TCA(data_temp, 2, top_criterion, num_epochs=num_epochs, learning_rate=learning_rate)\n",
    "\n",
    "fig, ax = plt.subplots()\n",
    "sns.scatterplot(x=Y_top[:,0], y=Y_top[:,1], s=50, hue=t, palette=\"husl\")\n",
    "ax.get_legend().remove()\n",
    "plt.show()"
   ]
  },
  {
   "cell_type": "code",
   "execution_count": 45,
   "metadata": {},
   "outputs": [
    {
     "data": {
      "text/plain": [
       "Parameter containing:\n",
       "tensor([[-5.1953e-02, -5.0352e-02,  4.3542e-04,  ...,  9.0160e-04,\n",
       "         -1.3604e-03,  4.1734e-04],\n",
       "        [ 1.1607e-04,  1.3146e-03,  3.6310e-04,  ..., -4.1387e-04,\n",
       "          1.1319e-05, -9.3653e-04]], requires_grad=True)"
      ]
     },
     "execution_count": 45,
     "metadata": {},
     "output_type": "execute_result"
    }
   ],
   "source": [
    "W"
   ]
  },
  {
   "cell_type": "code",
   "execution_count": null,
   "metadata": {},
   "outputs": [],
   "source": []
  }
 ],
 "metadata": {
  "kernelspec": {
   "display_name": "Python 3",
   "language": "python",
   "name": "python3"
  },
  "language_info": {
   "codemirror_mode": {
    "name": "ipython",
    "version": 3
   },
   "file_extension": ".py",
   "mimetype": "text/x-python",
   "name": "python",
   "nbconvert_exporter": "python",
   "pygments_lexer": "ipython3",
   "version": "3.8.5"
  }
 },
 "nbformat": 4,
 "nbformat_minor": 2
}
