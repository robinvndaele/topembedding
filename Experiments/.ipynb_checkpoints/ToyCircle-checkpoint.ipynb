{
 "cells": [
  {
   "cell_type": "markdown",
   "metadata": {},
   "source": [
    "# Topological regularization of circle embedding\n",
    "\n",
    "In this notebook, we show how a topological loss can be combined with a linear embedding procedure, as to regularize the embedding and better reflect the topological---in this case circular---prior. \n",
    "\n",
    "We start by setting the working directory and importing the necessary libraries."
   ]
  },
  {
   "cell_type": "code",
   "execution_count": 1,
   "metadata": {},
   "outputs": [
    {
     "ename": "ModuleNotFoundError",
     "evalue": "No module named 'topologylayer'",
     "output_type": "error",
     "traceback": [
      "\u001b[0;31m---------------------------------------------------------------------------\u001b[0m",
      "\u001b[0;31mModuleNotFoundError\u001b[0m                       Traceback (most recent call last)",
      "\u001b[0;32m<ipython-input-1-7088579f6b94>\u001b[0m in \u001b[0;36m<module>\u001b[0;34m\u001b[0m\n\u001b[1;32m     15\u001b[0m \u001b[0;34m\u001b[0m\u001b[0m\n\u001b[1;32m     16\u001b[0m \u001b[0;31m# Pytorch compatible topology layer\u001b[0m\u001b[0;34m\u001b[0m\u001b[0;34m\u001b[0m\u001b[0;34m\u001b[0m\u001b[0m\n\u001b[0;32m---> 17\u001b[0;31m \u001b[0;32mfrom\u001b[0m \u001b[0mtopologylayer\u001b[0m\u001b[0;34m.\u001b[0m\u001b[0mnn\u001b[0m \u001b[0;32mimport\u001b[0m \u001b[0mAlphaLayer\u001b[0m\u001b[0;34m\u001b[0m\u001b[0;34m\u001b[0m\u001b[0m\n\u001b[0m\u001b[1;32m     18\u001b[0m \u001b[0;32mfrom\u001b[0m \u001b[0mtopembed\u001b[0m \u001b[0;32mimport\u001b[0m \u001b[0mDiagramFeature\u001b[0m\u001b[0;34m\u001b[0m\u001b[0;34m\u001b[0m\u001b[0m\n\u001b[1;32m     19\u001b[0m \u001b[0;34m\u001b[0m\u001b[0m\n",
      "\u001b[0;31mModuleNotFoundError\u001b[0m: No module named 'topologylayer'"
     ]
    }
   ],
   "source": [
    "# Set working directory\n",
    "import os\n",
    "os.chdir(\"..\")\n",
    "\n",
    "# Tracking computation times\n",
    "import time\n",
    "\n",
    "# Handling arrays and data.frames\n",
    "import pandas as pd \n",
    "import numpy as np\n",
    "\n",
    "# Functions for deep learning (Pytorch)\n",
    "import torch\n",
    "from torch import nn\n",
    "\n",
    "# Pytorch compatible topology layer\n",
    "from topologylayer.nn import AlphaLayer\n",
    "from topembed import DiagramFeature\n",
    "\n",
    "# Plotting\n",
    "import seaborn as sns\n",
    "import matplotlib.pyplot as plt\n",
    "\n",
    "# Ordinary PCA embedding\n",
    "from sklearn.decomposition import PCA\n",
    "\n",
    "%matplotlib inline"
   ]
  },
  {
   "cell_type": "markdown",
   "metadata": {},
   "source": [
    "## Construct data and view restriction to first two coordinates\n",
    "\n",
    "We now construct a high-dimensional data set sampled from a circular model. The model occurs only in the first two dimensions, and the high-dimensionality of the data is directly caused by random noise."
   ]
  },
  {
   "cell_type": "code",
   "execution_count": null,
   "metadata": {},
   "outputs": [],
   "source": [
    "# Seed for reproducibility\n",
    "np.random.seed(42)\n",
    "\n",
    "# Sample parameters\n",
    "npoints = 50 # number of points\n",
    "ndim = 500 # data dimensionality (with noise)\n",
    "sigma = 0.45 # magnitude of noise per dimension\n",
    "\n",
    "# Sample data\n",
    "t = np.random.uniform(low=0, high=2 * np.pi, size=npoints)\n",
    "X = np.concatenate([np.transpose(np.array([np.cos(t), np.sin(t)])), np.zeros([npoints, ndim - 2])], axis=1)\n",
    "N = np.random.uniform(low=-sigma, high=sigma, size=[npoints, ndim])\n",
    "data = X + N\n",
    "\n",
    "# Plot the first two dimensions of the data two illustrate the circular model\n",
    "fig, ax = plt.subplots()\n",
    "ax = sns.scatterplot(x=data[:,0], y=data[:,1], s=50, hue=t, palette=\"husl\")\n",
    "ax.get_legend().remove()\n",
    "plt.show()"
   ]
  },
  {
   "cell_type": "markdown",
   "metadata": {},
   "source": [
    "## Conduct ordinary PCA embedding\n",
    "\n",
    "We now explore how well the ordinary PCA embedding is able to recover the model from our data."
   ]
  },
  {
   "cell_type": "code",
   "execution_count": 3,
   "metadata": {},
   "outputs": [
    {
     "data": {
      "image/png": "[encoded data removed]",
      "text/plain": [
       "<Figure size 432x288 with 1 Axes>"
      ]
     },
     "metadata": {
      "needs_background": "light"
     },
     "output_type": "display_data"
    }
   ],
   "source": [
    "# Conduct PCA embedding\n",
    "pca = PCA(n_components=2, random_state=42).fit(data)\n",
    "Y_pca = pca.transform(data)\n",
    "\n",
    "# View PCA embedding\n",
    "fig, ax = plt.subplots()\n",
    "sns.scatterplot(x=Y_pca[:,0], y=Y_pca[:,1], s=50, hue=t, palette=\"husl\", ax=ax)\n",
    "ax.get_legend().remove()\n",
    "plt.show()"
   ]
  },
  {
   "cell_type": "markdown",
   "metadata": {},
   "source": [
    "We see that due to the noise in high dimensions, while the overall ordering points is good, PCA is no longer able to effectively recover the circular hole. This can be explained by investigating the magnitudes principal components by dimension. We will not include the first two magnitudes for visualization purposes."
   ]
  },
  {
   "cell_type": "code",
   "execution_count": 4,
   "metadata": {},
   "outputs": [
    {
     "data": {
      "image/png": "[encoded data removed]",
      "text/plain": [
       "<Figure size 1080x216 with 1 Axes>"
      ]
     },
     "metadata": {
      "needs_background": "light"
     },
     "output_type": "display_data"
    }
   ],
   "source": [
    "# Compute the magnitudes of the principal components by dimension\n",
    "magnitudes_pca = pd.DataFrame(np.sum(np.abs(pca.components_[:,2:]), axis=0), columns=[\"magnitude\"])\n",
    "magnitudes_pca[\"type\"] = \"PCA\"\n",
    "\n",
    "# View the magnitudes of the principal components by dimension\n",
    "fig, ax = plt.subplots(figsize=(15, 3))\n",
    "sns.histplot(data=magnitudes_pca, x=\"magnitude\", ax=ax)\n",
    "ax.set_title(\"Importance distribution of irrelevant features\")\n",
    "ax.set_xlabel(\"feature importance\")\n",
    "plt.show()"
   ]
  },
  {
   "cell_type": "markdown",
   "metadata": {},
   "source": [
    "We see that while the principal components agree that the first two dimensions of the data contribute most to the variance, all other dimensions contribute something as well. The noise in each added dimensions results in a small shift of the projection plane from the one spanned by the first two coordinates. These small shifts then accumulate over the many dimensions, until the projection plane no longer reflects the circular model."
   ]
  },
  {
   "cell_type": "markdown",
   "metadata": {},
   "source": [
    "## Apply topological regularization to the embedding\n",
    "\n",
    "We now show how we can bias a linear embedding using a loss function that captures our topological prior.\n",
    "\n",
    "The model we will use for this learns a linear transformation $W$, which is optimized for the following three losses:\n",
    "- the reconstruction loss between our data and its $X$ low-rank approximation $XWW^T$;\n",
    "- a loss function encouraging orthonormality of $W$, i.e., such that  $WW^T$ is a projection matrix;\n",
    "- a loss function that captures our topological prior."
   ]
  },
  {
   "cell_type": "code",
   "execution_count": 5,
   "metadata": {},
   "outputs": [],
   "source": [
    "def TPCA(X, dim, top_criterion, lambda_W=1e4, num_epochs=2000, learning_rate=1e-3, eps=1e-07, random_state=None):\n",
    "    \n",
    "    # Center the data\n",
    "    X = X - X.mean(axis=1, keepdims=True)\n",
    "    \n",
    "    # Initialize the linear embedding with PCA\n",
    "    W = PCA(n_components=dim, random_state=random_state).fit(X).components_.transpose()\n",
    "    W = torch.tensor(W).type(torch.float)\n",
    "    W = torch.autograd.Variable(W, requires_grad=True)    \n",
    "    \n",
    "    # Initialize the optimization\n",
    "    if not random_state is None:\n",
    "        torch.manual_seed(random_state)\n",
    "    \n",
    "    X = torch.tensor(X).type(torch.float)  \n",
    "    optimizer = torch.optim.Adam([W], lr=learning_rate, eps=eps)\n",
    "    MSE = nn.MSELoss()\n",
    "    \n",
    "    # Conduct the optimization\n",
    "    for epoch in range(num_epochs):\n",
    "        optimizer.zero_grad()\n",
    "        P = torch.matmul(X, W) # projection of X onto subspace W\n",
    "        L = torch.matmul(P, torch.transpose(W, 0, 1)) # low-rank reconstruction of X\n",
    "        emb_loss = MSE(L, X) # MSE between X and low-rank reconstruction\n",
    "        IW = torch.matmul(torch.transpose(W, 0, 1), W) # correlation between projection vectors W\n",
    "        W_loss = lambda_W * torch.norm((IW - torch.eye(2))) # loss to encourage orthonormality of W\n",
    "        top_loss = top_criterion(P) # topological loss\n",
    "        loss = emb_loss + W_loss + top_loss\n",
    "        loss.backward()\n",
    "        optimizer.step()\n",
    "        \n",
    "        if epoch == 0 or (epoch + 1) % (int(num_epochs / 10)) == 0:\n",
    "            print (\"[epoch %d] [embedding loss: %f, orthonormality loss: %f, top loss: %f]\" % \n",
    "                   (epoch + 1, emb_loss, W_loss, top_loss))\n",
    "    \n",
    "    W = W.detach().numpy() # optimized subspace for projection\n",
    "    Y = np.dot(X.numpy(), W) # data projection onto W\n",
    "    \n",
    "    return(Y, W)"
   ]
  },
  {
   "cell_type": "markdown",
   "metadata": {},
   "source": [
    "As a topological loss, we will use the persistence of the most prominent cycle in our embedding. It is important to multiply this by a factor $\\lambda_{\\mathrm{top}} <0$, since we want this persistence to be high. To obtain this loss, we require an additional layer that constructs the alpha complex from the embedding, from which subsequently persistent homology is computed."
   ]
  },
  {
   "cell_type": "code",
   "execution_count": 6,
   "metadata": {},
   "outputs": [],
   "source": [
    "# Define topological optimization\n",
    "\n",
    "def g(p): return p[1] - p[0] # function that returns the persistence d - b of a point (b, d)\n",
    "top_layer = AlphaLayer(maxdim=1) # alpha complex layer\n",
    "circular_persistence = DiagramFeature(dim=1, j=1, g=g) # compute persistence of most prominent cycle\n",
    "lambda_top = -1e0 # scalar factor that trades off embedding and topological loss\n",
    "\n",
    "# Construct topological loss criterion\n",
    "\n",
    "def top_criterion(output):\n",
    "    \n",
    "    dgminfo = top_layer(output)\n",
    "    loss = lambda_top * circular_persistence(dgminfo)\n",
    "    \n",
    "    return loss"
   ]
  },
  {
   "cell_type": "markdown",
   "metadata": {},
   "source": [
    "We can now conduct the topologically regularized linear embedding as follows."
   ]
  },
  {
   "cell_type": "code",
   "execution_count": 7,
   "metadata": {},
   "outputs": [
    {
     "name": "stdout",
     "output_type": "stream",
     "text": [
      "[epoch 1] [embedding loss: 0.064114, orthonormality loss: 0.001038, top loss: -0.623297]\n",
      "[epoch 200] [embedding loss: 0.065009, orthonormality loss: 120.422157, top loss: -0.558979]\n",
      "[epoch 400] [embedding loss: 0.065311, orthonormality loss: 209.730453, top loss: -0.588365]\n",
      "[epoch 600] [embedding loss: 0.065539, orthonormality loss: 84.854088, top loss: -0.583576]\n",
      "[epoch 800] [embedding loss: 0.065736, orthonormality loss: 102.624504, top loss: -0.693658]\n",
      "[epoch 1000] [embedding loss: 0.065852, orthonormality loss: 114.083633, top loss: -0.806937]\n",
      "[epoch 1200] [embedding loss: 0.066031, orthonormality loss: 216.045059, top loss: -0.749640]\n",
      "[epoch 1400] [embedding loss: 0.066047, orthonormality loss: 101.188423, top loss: -0.776220]\n",
      "[epoch 1600] [embedding loss: 0.066149, orthonormality loss: 181.960541, top loss: -0.927765]\n",
      "[epoch 1800] [embedding loss: 0.066209, orthonormality loss: 50.307201, top loss: -0.916379]\n",
      "[epoch 2000] [embedding loss: 0.066274, orthonormality loss: 68.446167, top loss: -0.968062]\n",
      "Time for embedding: 00:00:37\n"
     ]
    },
    {
     "data": {
      "image/png": "[encoded data removed]",
      "text/plain": [
       "<Figure size 432x288 with 1 Axes>"
      ]
     },
     "metadata": {
      "needs_background": "light"
     },
     "output_type": "display_data"
    }
   ],
   "source": [
    "# Conduct topological optimization\n",
    "num_epochs = 2000\n",
    "learning_rate = 1e-2\n",
    "\n",
    "start_time = time.time()\n",
    "Y_top, W = TPCA(data, 2, top_criterion, num_epochs=num_epochs, learning_rate=learning_rate, random_state=42)\n",
    "elapsed_time = time.time() - start_time\n",
    "print(\"Time for embedding: \" + time.strftime(\"%H:%M:%S\", time.gmtime(elapsed_time)))\n",
    "\n",
    "# View topologically regularized embedding\n",
    "fig, ax = plt.subplots()\n",
    "sns.scatterplot(x=Y_top[:,0], y=Y_top[:,1], s=50, hue=t, palette=\"husl\")\n",
    "ax.get_legend().remove()\n",
    "plt.show()"
   ]
  },
  {
   "cell_type": "markdown",
   "metadata": {},
   "source": [
    "Finally, we compare the magnitudes of the new projection weights with those from the ordinary PCA embedding."
   ]
  },
  {
   "cell_type": "code",
   "execution_count": 8,
   "metadata": {},
   "outputs": [
    {
     "data": {
      "image/png": "[encoded data removed]",
      "text/plain": [
       "<Figure size 1080x216 with 1 Axes>"
      ]
     },
     "metadata": {
      "needs_background": "light"
     },
     "output_type": "display_data"
    }
   ],
   "source": [
    "# Compute the magnitudes of the weights by dimension\n",
    "magnitudes = pd.DataFrame(np.sum(np.abs(W[2:,:]), axis=1), columns=[\"magnitude\"])\n",
    "magnitudes[\"type\"] = \"PCA + top\"\n",
    "\n",
    "# Combine with the ordinary PCA magnitudes\n",
    "magnitudes = pd.concat([magnitudes_pca, magnitudes], axis=0)\n",
    "\n",
    "# Compare the magnitudes\n",
    "fig, ax = plt.subplots(figsize=(15, 3))\n",
    "sns.histplot(data=magnitudes, x=\"magnitude\", hue=\"type\", ax=ax)\n",
    "ax.set_title(\"Importance distribution of irrelevant features\")\n",
    "ax.set_xlabel(\"feature importance\")\n",
    "plt.show()"
   ]
  },
  {
   "cell_type": "markdown",
   "metadata": {},
   "source": [
    "We see that by adding a loss for topological regularization, the linear embedding model puts less emphasis on the majority of features that are irrelevant for capturing the topological prior.\n",
    "\n",
    "Finally, we explore how the embeddings compare to an embedding that learns the topological prior from the original (high-dimensional) noisy data."
   ]
  },
  {
   "cell_type": "code",
   "execution_count": null,
   "metadata": {},
   "outputs": [],
   "source": []
  },
  {
   "cell_type": "code",
   "execution_count": null,
   "metadata": {},
   "outputs": [],
   "source": [
    "# Define topological optimization\n",
    "\n",
    "def g(p): return p[1] - p[0] # function that returns the persistence d - b of a point (b, d)\n",
    "top_layer = AlphaLayer(maxdim=1) # alpha complex layer\n",
    "circular_persistence = DiagramFeature(dim=1, j=1, g=g) # compute persistence of most prominent cycle\n",
    "lambda_top = -1e0 # scalar factor that trades off embedding and topological loss\n",
    "\n",
    "# Construct topological loss criterion according to the topological information in the original high-dimensional\n",
    "\n",
    "def top_criterion_original(output):\n",
    "    \n",
    "    dgminfo = top_layer(output)\n",
    "    loss = lambda_top * circular_persistence(dgminfo)\n",
    "    \n",
    "    return loss"
   ]
  }
 ],
 "metadata": {
  "kernelspec": {
   "display_name": "Python 3",
   "language": "python",
   "name": "python3"
  },
  "language_info": {
   "codemirror_mode": {
    "name": "ipython",
    "version": 3
   },
   "file_extension": ".py",
   "mimetype": "text/x-python",
   "name": "python",
   "nbconvert_exporter": "python",
   "pygments_lexer": "ipython3",
   "version": "3.8.5"
  }
 },
 "nbformat": 4,
 "nbformat_minor": 2
}
