{
 "cells": [
  {
   "cell_type": "markdown",
   "metadata": {},
   "source": [
    "# Dimensionality Reduction Performance by Growth Rate"
   ]
  },
  {
   "cell_type": "markdown",
   "metadata": {},
   "source": [
    "In this notebook, we show that the performance of common dimensionality reduction methods is directly linked to whether or not neighbors become random in the high-dimensional space. We start by loading the necessary libraries."
   ]
  },
  {
   "cell_type": "code",
   "execution_count": 15,
   "metadata": {},
   "outputs": [],
   "source": [
    "# Handling arrays\n",
    "import numpy as np\n",
    "\n",
    "# neural networks in Python\n",
    "import torch\n",
    "from torch import nn\n",
    "from torch._C import Value\n",
    "\n",
    "# plotting\n",
    "import matplotlib.pyplot as plt\n",
    "\n",
    "# something Bo knows\n",
    "from tqdm import tqdm\n",
    "\n",
    "%matplotlib inline"
   ]
  },
  {
   "cell_type": "markdown",
   "metadata": {},
   "source": [
    "We define our experiment parameters."
   ]
  },
  {
   "cell_type": "code",
   "execution_count": 10,
   "metadata": {},
   "outputs": [],
   "source": [
    "ntimes = 100 # number of noise replicates to investigate dimred performance\n",
    "npoints = 25 # number of points in our ground truth data set to be investigated\n",
    "maxdim = 10000 # maximal dimension of the data set to be investigated\n",
    "dims = np.round(np.exp(np.linspace(np.log(2), np.log(maxdim), num=10))).astype(\"int\") # dimensions to study\n",
    "a = 1.25 # magnitude of noise: per dimension we sample noise uniformly from [-a, a]\n",
    "alphas = np.append(np.arange(2, 7), np.inf) # factors controling the growth rate of the ground truth diameters"
   ]
  },
  {
   "cell_type": "markdown",
   "metadata": {},
   "source": [
    "We construct the ground truth data sets according to the various growth rates."
   ]
  },
  {
   "cell_type": "code",
   "execution_count": 11,
   "metadata": {},
   "outputs": [],
   "source": [
    "t = np.linspace(0, 1, num=npoints)\n",
    "datasets = []\n",
    "for idx, alpha in enumerate(alphas):\n",
    "    factor = np.ones(maxdim) if alpha == np.inf else (np.arange(maxdim) + 1)**(-1 / alpha)\n",
    "    datasets.append(np.transpose(np.tile(t, (maxdim, 1))) * np.tile(factor, (25, 1)))"
   ]
  },
  {
   "cell_type": "markdown",
   "metadata": {},
   "source": [
    "We define an autoencoder model."
   ]
  },
  {
   "cell_type": "code",
   "execution_count": 18,
   "metadata": {},
   "outputs": [],
   "source": [
    "class autoencoder(nn.Module):\n",
    "\n",
    "    def init_weights(self, m):\n",
    "        if isinstance(m, nn.Linear):\n",
    "          torch.nn.init.xavier_uniform_(m.weight, gain=1.0)        \n",
    "          torch.nn.init.zeros_(m.bias)\n",
    "\n",
    "    def __init__(self, input_dim, encoding_dim):\n",
    "        super(autoencoder, self).__init__()\n",
    "        self.input_dim = input_dim\n",
    "        self.encoding_dim = encoding_dim\n",
    "        self.encoder = nn.Sequential(\n",
    "            nn.Linear(self.input_dim, 6),\n",
    "            nn.Tanh(),\n",
    "            nn.Linear(6, self.encoding_dim),\n",
    "            nn.Tanh())\n",
    "        self.decoder = nn.Sequential(\n",
    "            nn.Linear(self.encoding_dim, 6),\n",
    "            nn.Tanh(),            \n",
    "            nn.Linear(6, self.input_dim))\n",
    "        \n",
    "        self.encoder.apply(self.init_weights)\n",
    "        self.decoder.apply(self.init_weights)\n",
    "\n",
    "    def forward(self, x):\n",
    "        x = self.encoder(x)\n",
    "        x = self.decoder(x)\n",
    "        return x\n",
    "    \n",
    "def autoencode(X, encoding_dim, num_epochs=2000, learning_rate=1e-3, eps=1e-07):\n",
    "    X = torch.tensor(X).type(torch.float)\n",
    "    \n",
    "    model = autoencoder(input_dim=X.shape[1], encoding_dim=encoding_dim)\n",
    "    criterion = nn.MSELoss()\n",
    "    optimizer = torch.optim.Adam(model.parameters(), lr=learning_rate, eps=eps)\n",
    "    \n",
    "    for epoch in range(num_epochs):\n",
    "        output = model(X)\n",
    "        loss = criterion(output, X)\n",
    "        loss.backward()\n",
    "        optimizer.step()\n",
    "        optimizer.zero_grad()\n",
    "\n",
    "    Y = model.encoder(X).detach().numpy()\n",
    "    \n",
    "    return(Y)"
   ]
  },
  {
   "cell_type": "markdown",
   "metadata": {},
   "source": [
    "We view the magnitude of noise and autoencoder embedding for an example dataset."
   ]
  },
  {
   "cell_type": "code",
   "execution_count": 19,
   "metadata": {},
   "outputs": [
    {
     "data": {
      "image/png": "[encoded data removed]",
      "text/plain": [
       "<Figure size 648x216 with 3 Axes>"
      ]
     },
     "metadata": {
      "needs_background": "light"
     },
     "output_type": "display_data"
    }
   ],
   "source": [
    "np.random.seed(17)\n",
    "torch.manual_seed(17)\n",
    "\n",
    "idx = 5\n",
    "XN = datasets[idx][:,:2] + a * (2 * np.random.rand(npoints, 2) - 1)\n",
    "Y = autoencode(XN, encoding_dim=1)\n",
    "Y = np.concatenate([Y, np.zeros([Y.shape[0], 1])], axis=1)\n",
    "\n",
    "if np.corrcoef(Y[:,0], t)[0, 1] < 0:\n",
    "    Y = np.flip(Y, axis=0)\n",
    "    \n",
    "fig, axes = plt.subplots(nrows=1, ncols=3, figsize=(9, 3))\n",
    "axes[0].scatter(datasets[idx][:,0], datasets[idx][:,1], c=t)\n",
    "axes[0].title.set_text(\"without noise\")\n",
    "axes[1].scatter(XN[:,0], XN[:,1], c=t)\n",
    "axes[1].title.set_text(\"with noise\")\n",
    "axes[2].scatter(Y[:,0], Y[:,1], c=t)\n",
    "axes[2].title.set_text(\"AutoEncoder\")\n",
    "axes[2].get_yaxis().set_visible(False)\n",
    "fig.tight_layout()"
   ]
  },
  {
   "cell_type": "markdown",
   "metadata": {},
   "source": [
    "We measure the autoencoder performance by dimensionality and growth rate."
   ]
  },
  {
   "cell_type": "code",
   "execution_count": null,
   "metadata": {},
   "outputs": [
    {
     "name": "stdout",
     "output_type": "stream",
     "text": [
      "progress: 10.00%\r"
     ]
    }
   ],
   "source": [
    "cor_auto = np.zeros([len(dims), len(alphas)])\n",
    "\n",
    "for idx in range(ntimes):\n",
    "    \n",
    "    print(\"progress: \" + str(round(100 * idx / ntimes, 2)).ljust(5, \"0\") + \"%\", end=\"\\r\")\n",
    "    \n",
    "    for alpha_idx, alpha in enumerate(alphas):\n",
    "        \n",
    "            XN = datasets[alpha_idx] + a * (2 * np.random.rand(npoints, maxdim) - 1)\n",
    "            \n",
    "            for dim_idx, dim in enumerate(dims):\n",
    "                \n",
    "                Y = autoencode(XN[:,:dim], 1)\n",
    "                cor = np.max([np.corrcoef(Y[:,0], t)[0, 1], np.corrcoef(np.flip(Y[:,0], axis=0), t)[0, 1]])\n",
    "                cor_auto[dim_idx, alpha_idx] += cor\n",
    "                \n",
    "cor_auto /= ntimes\n",
    "\n",
    "print(\"progress: 100.0%\", end=\"\\r\")\n",
    "\n",
    "\n",
    "fig, ax = plt.subplots(figsize=(5, 5))\n",
    "ax.set_xlabel(\"dim\")\n",
    "ax.set_ylabel(\"correlation\")\n",
    "ax.set_xscale(\"log\")\n",
    "\n",
    "for idx, alpha in enumerate(alphas):\n",
    "    \n",
    "    alpha_label = int(alpha) if alpha != np.inf else alpha\n",
    "    ax.plot(dims, cor_auto[:,idx], label=alpha_label)\n",
    "    ax.scatter(dims, cor_auto[:,idx])\n",
    "    \n",
    "ax.legend(title=\"alpha\", loc=\"upper center\", ncol=3, bbox_to_anchor=(0.5, 1.25))"
   ]
  },
  {
   "cell_type": "code",
   "execution_count": null,
   "metadata": {},
   "outputs": [],
   "source": []
  }
 ],
 "metadata": {
  "kernelspec": {
   "display_name": "Python 3",
   "language": "python",
   "name": "python3"
  },
  "language_info": {
   "codemirror_mode": {
    "name": "ipython",
    "version": 3
   },
   "file_extension": ".py",
   "mimetype": "text/x-python",
   "name": "python",
   "nbconvert_exporter": "python",
   "pygments_lexer": "ipython3",
   "version": "3.8.5"
  }
 },
 "nbformat": 4,
 "nbformat_minor": 2
}
